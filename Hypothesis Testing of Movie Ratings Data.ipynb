{
 "cells": [
  {
   "cell_type": "markdown",
   "metadata": {},
   "source": [
    "\n",
    "# Проверка гипотез на основе данных о рейтингах фильмов\n",
    "_____________________________________________________\n"
   ]
  },
  {
   "cell_type": "markdown",
   "metadata": {},
   "source": [
    "## Библиотеки"
   ]
  },
  {
   "cell_type": "code",
   "execution_count": 1,
   "metadata": {},
   "outputs": [],
   "source": [
    "import pandas as pd  \n",
    "import numpy as np\n",
    "from scipy.stats import mannwhitneyu\n",
    "from scipy import stats"
   ]
  },
  {
   "cell_type": "markdown",
   "metadata": {},
   "source": [
    "#### Load Data"
   ]
  },
  {
   "cell_type": "code",
   "execution_count": null,
   "metadata": {},
   "outputs": [],
   "source": [
    "data1 = pd.DataFrame(pd.read_csv('movieset.csv'))"
   ]
  },
  {
   "cell_type": "code",
   "execution_count": 7,
   "metadata": {},
   "outputs": [
    {
     "data": {
      "text/html": [
       "<div>\n",
       "<style scoped>\n",
       "    .dataframe tbody tr th:only-of-type {\n",
       "        vertical-align: middle;\n",
       "    }\n",
       "\n",
       "    .dataframe tbody tr th {\n",
       "        vertical-align: top;\n",
       "    }\n",
       "\n",
       "    .dataframe thead th {\n",
       "        text-align: right;\n",
       "    }\n",
       "</style>\n",
       "<table border=\"1\" class=\"dataframe\">\n",
       "  <thead>\n",
       "    <tr style=\"text-align: right;\">\n",
       "      <th></th>\n",
       "      <th>The Life of David Gale (2003)</th>\n",
       "      <th>Wing Commander (1999)</th>\n",
       "      <th>Django Unchained (2012)</th>\n",
       "      <th>Alien (1979)</th>\n",
       "      <th>Indiana Jones and the Last Crusade (1989)</th>\n",
       "      <th>Snatch (2000)</th>\n",
       "      <th>Rambo: First Blood Part II (1985)</th>\n",
       "      <th>Fargo (1996)</th>\n",
       "      <th>Let the Right One In (2008)</th>\n",
       "      <th>Black Swan (2010)</th>\n",
       "      <th>...</th>\n",
       "      <th>When watching a movie I cheer or shout or talk or curse at the screen</th>\n",
       "      <th>When watching a movie I feel like the things on the screen are happening to me</th>\n",
       "      <th>As a movie unfolds I start to have problems keeping track of events that happened earlier</th>\n",
       "      <th>The emotions on the screen \"rub off\" on me - for instance if something sad is happening I get sad or if something frightening is happening I get scared</th>\n",
       "      <th>When watching a movie I get completely immersed in the alternative reality of the film</th>\n",
       "      <th>Movies change my position on social economic or political issues</th>\n",
       "      <th>When watching movies things get so intense that I have to stop watching</th>\n",
       "      <th>Gender identity (1 = female; 2 = male; 3 = self-described)</th>\n",
       "      <th>Are you an only child? (1: Yes; 0: No; -1: Did not respond)</th>\n",
       "      <th>Movies are best enjoyed alone (1: Yes; 0: No; -1: Did not respond)</th>\n",
       "    </tr>\n",
       "  </thead>\n",
       "  <tbody>\n",
       "    <tr>\n",
       "      <th>0</th>\n",
       "      <td>NaN</td>\n",
       "      <td>NaN</td>\n",
       "      <td>4.0</td>\n",
       "      <td>NaN</td>\n",
       "      <td>3.0</td>\n",
       "      <td>NaN</td>\n",
       "      <td>NaN</td>\n",
       "      <td>NaN</td>\n",
       "      <td>NaN</td>\n",
       "      <td>NaN</td>\n",
       "      <td>...</td>\n",
       "      <td>1.0</td>\n",
       "      <td>6.0</td>\n",
       "      <td>2.0</td>\n",
       "      <td>5.0</td>\n",
       "      <td>5.0</td>\n",
       "      <td>5.0</td>\n",
       "      <td>1.0</td>\n",
       "      <td>1.0</td>\n",
       "      <td>0</td>\n",
       "      <td>1</td>\n",
       "    </tr>\n",
       "    <tr>\n",
       "      <th>1</th>\n",
       "      <td>NaN</td>\n",
       "      <td>NaN</td>\n",
       "      <td>1.5</td>\n",
       "      <td>NaN</td>\n",
       "      <td>NaN</td>\n",
       "      <td>NaN</td>\n",
       "      <td>NaN</td>\n",
       "      <td>NaN</td>\n",
       "      <td>NaN</td>\n",
       "      <td>NaN</td>\n",
       "      <td>...</td>\n",
       "      <td>3.0</td>\n",
       "      <td>1.0</td>\n",
       "      <td>1.0</td>\n",
       "      <td>6.0</td>\n",
       "      <td>5.0</td>\n",
       "      <td>3.0</td>\n",
       "      <td>2.0</td>\n",
       "      <td>1.0</td>\n",
       "      <td>0</td>\n",
       "      <td>0</td>\n",
       "    </tr>\n",
       "    <tr>\n",
       "      <th>2</th>\n",
       "      <td>NaN</td>\n",
       "      <td>NaN</td>\n",
       "      <td>NaN</td>\n",
       "      <td>NaN</td>\n",
       "      <td>NaN</td>\n",
       "      <td>NaN</td>\n",
       "      <td>NaN</td>\n",
       "      <td>NaN</td>\n",
       "      <td>NaN</td>\n",
       "      <td>NaN</td>\n",
       "      <td>...</td>\n",
       "      <td>5.0</td>\n",
       "      <td>4.0</td>\n",
       "      <td>3.0</td>\n",
       "      <td>5.0</td>\n",
       "      <td>5.0</td>\n",
       "      <td>4.0</td>\n",
       "      <td>4.0</td>\n",
       "      <td>1.0</td>\n",
       "      <td>1</td>\n",
       "      <td>0</td>\n",
       "    </tr>\n",
       "    <tr>\n",
       "      <th>3</th>\n",
       "      <td>NaN</td>\n",
       "      <td>NaN</td>\n",
       "      <td>2.0</td>\n",
       "      <td>NaN</td>\n",
       "      <td>3.0</td>\n",
       "      <td>NaN</td>\n",
       "      <td>NaN</td>\n",
       "      <td>NaN</td>\n",
       "      <td>NaN</td>\n",
       "      <td>4.0</td>\n",
       "      <td>...</td>\n",
       "      <td>3.0</td>\n",
       "      <td>1.0</td>\n",
       "      <td>1.0</td>\n",
       "      <td>4.0</td>\n",
       "      <td>5.0</td>\n",
       "      <td>3.0</td>\n",
       "      <td>1.0</td>\n",
       "      <td>1.0</td>\n",
       "      <td>0</td>\n",
       "      <td>1</td>\n",
       "    </tr>\n",
       "    <tr>\n",
       "      <th>4</th>\n",
       "      <td>NaN</td>\n",
       "      <td>NaN</td>\n",
       "      <td>3.5</td>\n",
       "      <td>NaN</td>\n",
       "      <td>0.5</td>\n",
       "      <td>NaN</td>\n",
       "      <td>0.5</td>\n",
       "      <td>1.0</td>\n",
       "      <td>NaN</td>\n",
       "      <td>0.0</td>\n",
       "      <td>...</td>\n",
       "      <td>2.0</td>\n",
       "      <td>3.0</td>\n",
       "      <td>2.0</td>\n",
       "      <td>5.0</td>\n",
       "      <td>6.0</td>\n",
       "      <td>4.0</td>\n",
       "      <td>4.0</td>\n",
       "      <td>1.0</td>\n",
       "      <td>1</td>\n",
       "      <td>1</td>\n",
       "    </tr>\n",
       "    <tr>\n",
       "      <th>...</th>\n",
       "      <td>...</td>\n",
       "      <td>...</td>\n",
       "      <td>...</td>\n",
       "      <td>...</td>\n",
       "      <td>...</td>\n",
       "      <td>...</td>\n",
       "      <td>...</td>\n",
       "      <td>...</td>\n",
       "      <td>...</td>\n",
       "      <td>...</td>\n",
       "      <td>...</td>\n",
       "      <td>...</td>\n",
       "      <td>...</td>\n",
       "      <td>...</td>\n",
       "      <td>...</td>\n",
       "      <td>...</td>\n",
       "      <td>...</td>\n",
       "      <td>...</td>\n",
       "      <td>...</td>\n",
       "      <td>...</td>\n",
       "      <td>...</td>\n",
       "    </tr>\n",
       "    <tr>\n",
       "      <th>1092</th>\n",
       "      <td>NaN</td>\n",
       "      <td>NaN</td>\n",
       "      <td>NaN</td>\n",
       "      <td>NaN</td>\n",
       "      <td>3.5</td>\n",
       "      <td>NaN</td>\n",
       "      <td>NaN</td>\n",
       "      <td>NaN</td>\n",
       "      <td>NaN</td>\n",
       "      <td>NaN</td>\n",
       "      <td>...</td>\n",
       "      <td>3.0</td>\n",
       "      <td>4.0</td>\n",
       "      <td>3.0</td>\n",
       "      <td>5.0</td>\n",
       "      <td>5.0</td>\n",
       "      <td>4.0</td>\n",
       "      <td>4.0</td>\n",
       "      <td>1.0</td>\n",
       "      <td>0</td>\n",
       "      <td>0</td>\n",
       "    </tr>\n",
       "    <tr>\n",
       "      <th>1093</th>\n",
       "      <td>3.0</td>\n",
       "      <td>4.0</td>\n",
       "      <td>NaN</td>\n",
       "      <td>NaN</td>\n",
       "      <td>4.0</td>\n",
       "      <td>4.0</td>\n",
       "      <td>2.5</td>\n",
       "      <td>NaN</td>\n",
       "      <td>3.5</td>\n",
       "      <td>3.5</td>\n",
       "      <td>...</td>\n",
       "      <td>5.0</td>\n",
       "      <td>3.0</td>\n",
       "      <td>5.0</td>\n",
       "      <td>5.0</td>\n",
       "      <td>5.0</td>\n",
       "      <td>6.0</td>\n",
       "      <td>5.0</td>\n",
       "      <td>1.0</td>\n",
       "      <td>0</td>\n",
       "      <td>0</td>\n",
       "    </tr>\n",
       "    <tr>\n",
       "      <th>1094</th>\n",
       "      <td>NaN</td>\n",
       "      <td>NaN</td>\n",
       "      <td>NaN</td>\n",
       "      <td>NaN</td>\n",
       "      <td>NaN</td>\n",
       "      <td>NaN</td>\n",
       "      <td>NaN</td>\n",
       "      <td>3.5</td>\n",
       "      <td>NaN</td>\n",
       "      <td>NaN</td>\n",
       "      <td>...</td>\n",
       "      <td>6.0</td>\n",
       "      <td>3.0</td>\n",
       "      <td>1.0</td>\n",
       "      <td>6.0</td>\n",
       "      <td>6.0</td>\n",
       "      <td>4.0</td>\n",
       "      <td>2.0</td>\n",
       "      <td>1.0</td>\n",
       "      <td>0</td>\n",
       "      <td>0</td>\n",
       "    </tr>\n",
       "    <tr>\n",
       "      <th>1095</th>\n",
       "      <td>NaN</td>\n",
       "      <td>NaN</td>\n",
       "      <td>NaN</td>\n",
       "      <td>NaN</td>\n",
       "      <td>NaN</td>\n",
       "      <td>NaN</td>\n",
       "      <td>NaN</td>\n",
       "      <td>NaN</td>\n",
       "      <td>NaN</td>\n",
       "      <td>NaN</td>\n",
       "      <td>...</td>\n",
       "      <td>1.0</td>\n",
       "      <td>1.0</td>\n",
       "      <td>1.0</td>\n",
       "      <td>4.0</td>\n",
       "      <td>3.0</td>\n",
       "      <td>3.0</td>\n",
       "      <td>1.0</td>\n",
       "      <td>1.0</td>\n",
       "      <td>0</td>\n",
       "      <td>1</td>\n",
       "    </tr>\n",
       "    <tr>\n",
       "      <th>1096</th>\n",
       "      <td>NaN</td>\n",
       "      <td>NaN</td>\n",
       "      <td>4.0</td>\n",
       "      <td>NaN</td>\n",
       "      <td>2.5</td>\n",
       "      <td>NaN</td>\n",
       "      <td>NaN</td>\n",
       "      <td>3.0</td>\n",
       "      <td>NaN</td>\n",
       "      <td>3.5</td>\n",
       "      <td>...</td>\n",
       "      <td>3.0</td>\n",
       "      <td>4.0</td>\n",
       "      <td>1.0</td>\n",
       "      <td>4.0</td>\n",
       "      <td>4.0</td>\n",
       "      <td>4.0</td>\n",
       "      <td>1.0</td>\n",
       "      <td>1.0</td>\n",
       "      <td>0</td>\n",
       "      <td>1</td>\n",
       "    </tr>\n",
       "  </tbody>\n",
       "</table>\n",
       "<p>1097 rows × 477 columns</p>\n",
       "</div>"
      ],
      "text/plain": [
       "      The Life of David Gale (2003)  Wing Commander (1999)  \\\n",
       "0                               NaN                    NaN   \n",
       "1                               NaN                    NaN   \n",
       "2                               NaN                    NaN   \n",
       "3                               NaN                    NaN   \n",
       "4                               NaN                    NaN   \n",
       "...                             ...                    ...   \n",
       "1092                            NaN                    NaN   \n",
       "1093                            3.0                    4.0   \n",
       "1094                            NaN                    NaN   \n",
       "1095                            NaN                    NaN   \n",
       "1096                            NaN                    NaN   \n",
       "\n",
       "      Django Unchained (2012)  Alien (1979)  \\\n",
       "0                         4.0           NaN   \n",
       "1                         1.5           NaN   \n",
       "2                         NaN           NaN   \n",
       "3                         2.0           NaN   \n",
       "4                         3.5           NaN   \n",
       "...                       ...           ...   \n",
       "1092                      NaN           NaN   \n",
       "1093                      NaN           NaN   \n",
       "1094                      NaN           NaN   \n",
       "1095                      NaN           NaN   \n",
       "1096                      4.0           NaN   \n",
       "\n",
       "      Indiana Jones and the Last Crusade (1989)  Snatch (2000)  \\\n",
       "0                                           3.0            NaN   \n",
       "1                                           NaN            NaN   \n",
       "2                                           NaN            NaN   \n",
       "3                                           3.0            NaN   \n",
       "4                                           0.5            NaN   \n",
       "...                                         ...            ...   \n",
       "1092                                        3.5            NaN   \n",
       "1093                                        4.0            4.0   \n",
       "1094                                        NaN            NaN   \n",
       "1095                                        NaN            NaN   \n",
       "1096                                        2.5            NaN   \n",
       "\n",
       "      Rambo: First Blood Part II (1985)  Fargo (1996)  \\\n",
       "0                                   NaN           NaN   \n",
       "1                                   NaN           NaN   \n",
       "2                                   NaN           NaN   \n",
       "3                                   NaN           NaN   \n",
       "4                                   0.5           1.0   \n",
       "...                                 ...           ...   \n",
       "1092                                NaN           NaN   \n",
       "1093                                2.5           NaN   \n",
       "1094                                NaN           3.5   \n",
       "1095                                NaN           NaN   \n",
       "1096                                NaN           3.0   \n",
       "\n",
       "      Let the Right One In (2008)  Black Swan (2010)  ...  \\\n",
       "0                             NaN                NaN  ...   \n",
       "1                             NaN                NaN  ...   \n",
       "2                             NaN                NaN  ...   \n",
       "3                             NaN                4.0  ...   \n",
       "4                             NaN                0.0  ...   \n",
       "...                           ...                ...  ...   \n",
       "1092                          NaN                NaN  ...   \n",
       "1093                          3.5                3.5  ...   \n",
       "1094                          NaN                NaN  ...   \n",
       "1095                          NaN                NaN  ...   \n",
       "1096                          NaN                3.5  ...   \n",
       "\n",
       "      When watching a movie I cheer or shout or talk or curse at the screen  \\\n",
       "0                                                   1.0                       \n",
       "1                                                   3.0                       \n",
       "2                                                   5.0                       \n",
       "3                                                   3.0                       \n",
       "4                                                   2.0                       \n",
       "...                                                 ...                       \n",
       "1092                                                3.0                       \n",
       "1093                                                5.0                       \n",
       "1094                                                6.0                       \n",
       "1095                                                1.0                       \n",
       "1096                                                3.0                       \n",
       "\n",
       "      When watching a movie I feel like the things on the screen are happening to me  \\\n",
       "0                                                   6.0                                \n",
       "1                                                   1.0                                \n",
       "2                                                   4.0                                \n",
       "3                                                   1.0                                \n",
       "4                                                   3.0                                \n",
       "...                                                 ...                                \n",
       "1092                                                4.0                                \n",
       "1093                                                3.0                                \n",
       "1094                                                3.0                                \n",
       "1095                                                1.0                                \n",
       "1096                                                4.0                                \n",
       "\n",
       "      As a movie unfolds I start to have problems keeping track of events that happened earlier  \\\n",
       "0                                                   2.0                                           \n",
       "1                                                   1.0                                           \n",
       "2                                                   3.0                                           \n",
       "3                                                   1.0                                           \n",
       "4                                                   2.0                                           \n",
       "...                                                 ...                                           \n",
       "1092                                                3.0                                           \n",
       "1093                                                5.0                                           \n",
       "1094                                                1.0                                           \n",
       "1095                                                1.0                                           \n",
       "1096                                                1.0                                           \n",
       "\n",
       "      The emotions on the screen \"rub off\" on me - for instance if something sad is happening I get sad or if something frightening is happening I get scared  \\\n",
       "0                                                   5.0                                                                                                         \n",
       "1                                                   6.0                                                                                                         \n",
       "2                                                   5.0                                                                                                         \n",
       "3                                                   4.0                                                                                                         \n",
       "4                                                   5.0                                                                                                         \n",
       "...                                                 ...                                                                                                         \n",
       "1092                                                5.0                                                                                                         \n",
       "1093                                                5.0                                                                                                         \n",
       "1094                                                6.0                                                                                                         \n",
       "1095                                                4.0                                                                                                         \n",
       "1096                                                4.0                                                                                                         \n",
       "\n",
       "      When watching a movie I get completely immersed in the alternative reality of the film  \\\n",
       "0                                                   5.0                                        \n",
       "1                                                   5.0                                        \n",
       "2                                                   5.0                                        \n",
       "3                                                   5.0                                        \n",
       "4                                                   6.0                                        \n",
       "...                                                 ...                                        \n",
       "1092                                                5.0                                        \n",
       "1093                                                5.0                                        \n",
       "1094                                                6.0                                        \n",
       "1095                                                3.0                                        \n",
       "1096                                                4.0                                        \n",
       "\n",
       "      Movies change my position on social economic or political issues  \\\n",
       "0                                                   5.0                  \n",
       "1                                                   3.0                  \n",
       "2                                                   4.0                  \n",
       "3                                                   3.0                  \n",
       "4                                                   4.0                  \n",
       "...                                                 ...                  \n",
       "1092                                                4.0                  \n",
       "1093                                                6.0                  \n",
       "1094                                                4.0                  \n",
       "1095                                                3.0                  \n",
       "1096                                                4.0                  \n",
       "\n",
       "      When watching movies things get so intense that I have to stop watching  \\\n",
       "0                                                   1.0                         \n",
       "1                                                   2.0                         \n",
       "2                                                   4.0                         \n",
       "3                                                   1.0                         \n",
       "4                                                   4.0                         \n",
       "...                                                 ...                         \n",
       "1092                                                4.0                         \n",
       "1093                                                5.0                         \n",
       "1094                                                2.0                         \n",
       "1095                                                1.0                         \n",
       "1096                                                1.0                         \n",
       "\n",
       "      Gender identity (1 = female; 2 = male; 3 = self-described)  \\\n",
       "0                                                   1.0            \n",
       "1                                                   1.0            \n",
       "2                                                   1.0            \n",
       "3                                                   1.0            \n",
       "4                                                   1.0            \n",
       "...                                                 ...            \n",
       "1092                                                1.0            \n",
       "1093                                                1.0            \n",
       "1094                                                1.0            \n",
       "1095                                                1.0            \n",
       "1096                                                1.0            \n",
       "\n",
       "      Are you an only child? (1: Yes; 0: No; -1: Did not respond)  \\\n",
       "0                                                     0             \n",
       "1                                                     0             \n",
       "2                                                     1             \n",
       "3                                                     0             \n",
       "4                                                     1             \n",
       "...                                                 ...             \n",
       "1092                                                  0             \n",
       "1093                                                  0             \n",
       "1094                                                  0             \n",
       "1095                                                  0             \n",
       "1096                                                  0             \n",
       "\n",
       "      Movies are best enjoyed alone (1: Yes; 0: No; -1: Did not respond)  \n",
       "0                                                     1                   \n",
       "1                                                     0                   \n",
       "2                                                     0                   \n",
       "3                                                     1                   \n",
       "4                                                     1                   \n",
       "...                                                 ...                   \n",
       "1092                                                  0                   \n",
       "1093                                                  0                   \n",
       "1094                                                  0                   \n",
       "1095                                                  1                   \n",
       "1096                                                  1                   \n",
       "\n",
       "[1097 rows x 477 columns]"
      ]
     },
     "execution_count": 7,
     "metadata": {},
     "output_type": "execute_result"
    }
   ],
   "source": [
    "data1"
   ]
  },
  {
   "cell_type": "markdown",
   "metadata": {},
   "source": [
    "#### Вопрос 1"
   ]
  },
  {
   "cell_type": "markdown",
   "metadata": {},
   "source": [
    "#### Являются ли фильмы, которые более популярны (имеющие более высокие рейтинги), более рейтинговыми, чем фильмы, которые менее популярны?"
   ]
  },
  {
   "cell_type": "markdown",
   "metadata": {},
   "source": [
    "- H0 (Нулевая): Рейтинг популярных фильмов не отличается от рейтинга непопулярных.\n",
    "- H1: Рейтинг популярных фильмов отличается от рейтинга непопулярных."
   ]
  },
  {
   "cell_type": "code",
   "execution_count": null,
   "metadata": {
    "scrolled": true
   },
   "outputs": [
    {
     "data": {
      "text/plain": [
       "MannwhitneyuResult(statistic=45749.0, pvalue=3.418584551895982e-33)"
      ]
     },
     "execution_count": 8,
     "metadata": {},
     "output_type": "execute_result"
    }
   ],
   "source": [
    "popularities = data1.count() #подсчет строк для рейтингов для определения популярности\n",
    "median = popularities.median() #берем медиану популярности\n",
    "\n",
    "\n",
    "low_pop = popularities[popularities < median] #Помещаем низкую популярность в массив\n",
    "high_pop = popularities[popularities >= median] #Помещаем высокую популярность в массив\n",
    "\n",
    "#Получаем рейтинги для обеих категорий\n",
    "low_pop_ratings = data1[low_pop.index]\n",
    "high_pop_ratings = data1[high_pop.index]\n",
    "\n",
    "#Находим медианы для обеих категорий\n",
    "med_low_pop = low_pop_ratings.median(skipna=True)\n",
    "med_high_pop = high_pop_ratings.median(skipna=True)\n",
    "\n",
    "#манн-Уитни U тест\n",
    "mannwhitneyu(med_high_pop, med_low_pop, alternative='greater') #Проверка гипотезы о том, что медиана рейтингов популярных фильмов больше, чем у непопулярных"
   ]
  },
  {
   "cell_type": "markdown",
   "metadata": {},
   "source": [
    "#### Вывод:"
   ]
  },
  {
   "cell_type": "markdown",
   "metadata": {},
   "source": [
    "Эта задача была решена с помощью одностороннего U-критерия Манна-Уитни, где критерий Манна-Уитни проверяет гипотезу относительно медианы генеральной совокупности. Критерий Манна-Уитни позволяет нам сравнивать категориальные переменные для измерения изменчивости, что согласуется с нашей целью – определить, имеют ли популярные фильмы такие же рейтинги, как и непопулярные. В данном случае я взял данные по популярности и разделил их по медиане, чтобы получить две равноценные выборки: с низкой популярностью и с высокой популярностью. Данные были очищены поэлементно, чтобы учесть только оценки участников. Благодаря поэлементной очистке мы сохраняем больше данных. Этот метод предотвращает потерю данных, поскольку очистка по строкам привела бы к уменьшению размера выборки. Затем была рассчитана медиана для каждой группы, чтобы обеспечить лучшее представление «типичного» значения. В результате моё p-значение оценивается как 3,418584551895982e-33, и при уровне альфа 0,005 мы отвергаем нулевую гипотезу и принимаем альтернативную гипотезу."
   ]
  },
  {
   "cell_type": "markdown",
   "metadata": {},
   "source": [
    "#### Вопрос 2:"
   ]
  },
  {
   "cell_type": "markdown",
   "metadata": {},
   "source": [
    "#### Отличаются ли рейтинги новых фильмов от рейтингов старых?"
   ]
  },
  {
   "cell_type": "markdown",
   "metadata": {},
   "source": [
    "- H0 (Нулевая): Рейтинг новых фильмов не отличается от рейтинга старых фильмов.\n",
    "- H1: Рейтинг более новых фильмов  отличается от рейтинга старых фильмов."
   ]
  },
  {
   "cell_type": "code",
   "execution_count": 9,
   "metadata": {},
   "outputs": [
    {
     "name": "stderr",
     "output_type": "stream",
     "text": [
      "<>:5: SyntaxWarning: invalid escape sequence '\\('\n",
      "<>:5: SyntaxWarning: invalid escape sequence '\\('\n",
      "C:\\Users\\Mi\\AppData\\Local\\Temp\\ipykernel_28768\\1221330555.py:5: SyntaxWarning: invalid escape sequence '\\('\n",
      "  movieYears = movieratingandtitles.columns.str.extract('\\((\\d+)\\)').astype(int)\n"
     ]
    },
    {
     "data": {
      "text/plain": [
       "MannwhitneyuResult(statistic=18009.5, pvalue=0.06974757637794209)"
      ]
     },
     "execution_count": 9,
     "metadata": {},
     "output_type": "execute_result"
    }
   ],
   "source": [
    "movieratingandtitles = data1.iloc[:,:400] #берем первые 400 столбцов\n",
    "movieTitles = pd.Series(list(movieratingandtitles)) #берем названия фильмов\n",
    "\n",
    "# извлекаем годы\n",
    "movieYears = movieratingandtitles.columns.str.extract('\\((\\d+)\\)').astype(int)\n",
    "# объединяем названия и годы в один массив\n",
    "newmovieandyearcolumn= np.column_stack([movieTitles, movieYears])\n",
    "\n",
    "newmovieandyearcolumn = newmovieandyearcolumn[(newmovieandyearcolumn[:, 1].argsort())]\n",
    "\n",
    "#Разделение фильмов на новые и старые\n",
    "oldermovie = movieratingandtitles.loc[:, pd.DataFrame(newmovieandyearcolumn[:200])[0].tolist()].median(axis=0)  #split into lower ratings\n",
    "newermovie = movieratingandtitles.loc[:, pd.DataFrame(newmovieandyearcolumn[200:])[0].tolist()].median(axis=0) #split into higher ratings\n",
    "#очистка от NaN\n",
    "oldermovie_e = oldermovie[np.isfinite(oldermovie)]\n",
    "newermovie_e = newermovie[np.isfinite(newermovie)]\n",
    "\n",
    "mannwhitneyu(oldermovie_e, newermovie_e, alternative='two-sided') #Двусторонний тест\n"
   ]
  },
  {
   "cell_type": "markdown",
   "metadata": {},
   "source": [
    "#### Вывод:"
   ]
  },
  {
   "cell_type": "markdown",
   "metadata": {},
   "source": [
    "- Эта проблема была решена с помощью двухстороннего критерия Манна-Уитни, где тест проводился для определения, различаются ли рейтинги новых фильмов от рейтингов старых. Код был реализован путем поэлементной очистки данных. Опять же, это позволило соответствующим образом подсчитать данные, не влияя на размер данных. В этом наборе данных у одного из фильмов не был указан год. Вместо того, чтобы исключить фильм «Рэмбо: Первая кровь 2 (1985)» из набора данных, я ввел год, чтобы уменьшить вероятность увеличения стандартной ошибки. Информацию или данные следует удалять только тогда, когда мы уверены, что они не важны. В результате мое p-значение равно 0,0697475763779420. При уровне альфа 0,005 нам не удается отвергнуть нулевую гипотезу из-за случайности и принять альтернативную гипотезу."
   ]
  },
  {
   "cell_type": "markdown",
   "metadata": {},
   "source": [
    "#### Question #3:"
   ]
  },
  {
   "cell_type": "markdown",
   "metadata": {},
   "source": [
    "#### Имеет ли значение гендерный аспект в оценке фильма «Шрек (2001)», т. е. оценивают ли его по-разному зрители-мужчины и зрители-женщины?"
   ]
  },
  {
   "cell_type": "markdown",
   "metadata": {},
   "source": [
    "- H0 (Нулевая): Мужчины и женщины одинаково довольны «Шреком (2001)».\n",
    "- H1: Мужчины и женщины по-разному довольны «Шреком (2001)»."
   ]
  },
  {
   "cell_type": "code",
   "execution_count": 10,
   "metadata": {},
   "outputs": [
    {
     "name": "stdout",
     "output_type": "stream",
     "text": [
      "MannwhitneyuResult(statistic=96830.5, pvalue=0.050536625925559006)\n"
     ]
    }
   ],
   "source": [
    "title= 'Shrek' ## название фильма для анализа\n",
    "data1.columns.get_loc('Shrek (2001)')\n",
    "\n",
    "#Получение данных по гендерному признаку и рейтингу фильма Шрек(2001)\n",
    "dataone = data1.iloc[:,[87,474]]\n",
    "\n",
    "##Разделение данных по гендерному признаку\n",
    "dataforfemale =  dataone.loc[dataone['Gender identity (1 = female; 2 = male; 3 = self-described)'] == 1 ]\n",
    "dataformale =  dataone.loc[dataone['Gender identity (1 = female; 2 = male; 3 = self-described)'] == 2 ]\n",
    "\n",
    "# разделение данных по гендерному признаку и преобразование в массивы numpy\n",
    "dataformalenp = np.array(dataformale['Shrek (2001)'])\n",
    "dataforfemalenp = np.array(dataforfemale['Shrek (2001)'])\n",
    "\n",
    "#очистка от NaN\n",
    "datafem = dataforfemalenp[np.isfinite(dataforfemalenp)]\n",
    "datamal = dataformalenp[np.isfinite(dataformalenp)]\n",
    "\n",
    "##Манн-Уитни U тест:\n",
    "testman = mannwhitneyu(datafem, datamal, use_continuity=True, alternative='two-sided')\n",
    "\n",
    "print(testman)\n"
   ]
  },
  {
   "cell_type": "markdown",
   "metadata": {},
   "source": [
    "#### Вывод:"
   ]
  },
  {
   "cell_type": "markdown",
   "metadata": {},
   "source": [
    "Эта задача была решена с помощью двухстороннего критерия Манна-Уитни. Каждый интересующий нас образец был сохранен в массиве, соответствующем рейтингам фильма «Шрек (2001)». Затем данные были очищены поэлементно, чтобы размер выборки оставался больше, чем при очистке по строкам. Мы пришли к выводу, что мужчины и женщины воспринимают фильмы одинаково. В результате моё p-значение составило 0,0505366, а при уровне альфа 0,005 нам не удалось отвергнуть нулевое значение из-за случайности."
   ]
  },
  {
   "cell_type": "markdown",
   "metadata": {},
   "source": [
    "#### Вопрос 4:"
   ]
  },
  {
   "cell_type": "markdown",
   "metadata": {},
   "source": [
    "#### Какая доля фильмов оценивается по-разному зрителями мужского и женского пола?"
   ]
  },
  {
   "cell_type": "code",
   "execution_count": 11,
   "metadata": {},
   "outputs": [
    {
     "name": "stdout",
     "output_type": "stream",
     "text": [
      "Доля фильмов, оцененных зрителями-мужчинами и зрителями-женщинами по-разному, составляет  50 из 400, или 0.125 .\n"
     ]
    }
   ],
   "source": [
    "## Будем проводить тест Манна-Уитни для всех 400 фильмов, чтобы определить, сколько из них имеют значительные различия в рейтингах между мужчинами и женщинами.\n",
    "all_titles = data1.columns\n",
    "count = 0\n",
    "\n",
    "# Проходим по всем 400 фильмам\n",
    "for i in range(400):\n",
    "    \n",
    "    ## Устанавливаем столбцы для текущего фильма и гендерной идентичности\n",
    "    dataone = data1.loc[:,[all_titles[i], 'Gender identity (1 = female; 2 = male; 3 = self-described)']]\n",
    "    \n",
    "    # Очистка данных от NaN\n",
    "    dataone = dataone[np.isfinite(dataone)]\n",
    "    \n",
    "    # Разделение данных на женские и мужские\n",
    "    datafemale =  dataone.loc[dataone['Gender identity (1 = female; 2 = male; 3 = self-described)'] == 1 ].iloc[:,0]\n",
    "    datamale =  dataone.loc[dataone['Gender identity (1 = female; 2 = male; 3 = self-described)'] == 2 ].iloc[:,0]\n",
    "    \n",
    "    # Очистка от NaN\n",
    "    datafem = datafemale[np.isfinite(datafemale)]\n",
    "    datamal = datamale[np.isfinite(datamale)]\n",
    "    \n",
    "    # Для всех женщин и мужчин проводим тест Манна-Уитни, где для каждого p-значения выше 0.005 мы добавляем один к нашему счетчику\n",
    "    test22, p = mannwhitneyu(datafem, datamal)\n",
    "    \n",
    "    if p < 0.005:\n",
    "        count += 1\n",
    "#Calculate the proportion based off our out count, out of our sample size of 400\n",
    "proportion = count/400\n",
    "\n",
    "print(\"Доля фильмов, оцененных зрителями-мужчинами и зрителями-женщинами по-разному, составляет \", count, \"из 400, или\", proportion, '.')\n"
   ]
  },
  {
   "cell_type": "markdown",
   "metadata": {},
   "source": [
    "#### Вывод:"
   ]
  },
  {
   "cell_type": "markdown",
   "metadata": {},
   "source": [
    "- В этом вопросе я запустил двухсторонний тест Манна-Уитни, чтобы вычислить долю каждой подгруппы. В этом случае я очистил данные поэлементно, чтобы исключить возможность экспоненциального уменьшения размера выборки. Сначала я сгруппировал свои данные по двум категориям, мужчинам и женщинам, чтобы вычислить u-тест с точки зрения женщин и мужчин. С помощью цикла for для каждого значения выше 0,005 мы прибавляем единицу к нашему счету. Затем мы берем это число и делим его на общий размер выборки, чтобы получить долю мужчин и женщин, которые смотрят фильмы по-разному. В результате доля фильмов, оцененных по-разному мужчинами и женщинами, составляет 50/400, или 0,125. Это говорит нам о том, что 50/400 фильмов смотрятся по-разному мужчинами и женщинами."
   ]
  },
  {
   "cell_type": "markdown",
   "metadata": {},
   "source": [
    "#### Question #5:"
   ]
  },
  {
   "cell_type": "markdown",
   "metadata": {},
   "source": [
    "#### Оценивают ли дети ,которые одни в семье фильм «Король Лев» (1994) выше, чем те,дети у кого есть братья и сестры?"
   ]
  },
  {
   "cell_type": "markdown",
   "metadata": {},
   "source": [
    "- H0 : Единственным детям в семье фильм «Король Лев» (1994) нравится не больше, чем детям, у которых есть братья и сёстры.\n",
    "- H1: Единственным детям в семье фильм «Король Лев» (1994) нравится больше, чем детям, у которых есть братья и сёстры."
   ]
  },
  {
   "cell_type": "code",
   "execution_count": null,
   "metadata": {},
   "outputs": [
    {
     "name": "stdout",
     "output_type": "stream",
     "text": [
      "MannwhitneyuResult(statistic=64247.0, pvalue=0.978419092554931)\n"
     ]
    }
   ],
   "source": [
    "title = 'The Lion King (1994)'\n",
    "data1.columns.get_loc('The Lion King (1994)') \n",
    "\n",
    "dataSib = data1.iloc[:,[220,475]] #476 - column for \"only child\"\n",
    "                                 # \" Are you an only child? (1: Yes; 0: No; -1: Did not respond)\n",
    "\n",
    "## Разделение данных по признаку \"единственный ребенок в семье\"\n",
    "notOnly =  dataSib.loc[dataSib['Are you an only child? (1: Yes; 0: No; -1: Did not respond)'] == 0 ]\n",
    "onlyChild =  dataSib.loc[dataSib['Are you an only child? (1: Yes; 0: No; -1: Did not respond)'] == 1 ]\n",
    "\n",
    "#разделение данных по признаку \"единственный ребенок в семье\" +  фильм \"Король Лев (1994)\" \n",
    "notOnlynp = np.array(notOnly['The Lion King (1994)'])\n",
    "onlyChildnp = np.array(onlyChild['The Lion King (1994)'])\n",
    "\n",
    "# отчистка от NaN\n",
    "notOnlyprne = notOnlynp[np.isfinite(notOnlynp)]\n",
    "onlyChildprne = onlyChildnp[np.isfinite(onlyChildnp)]\n",
    "\n",
    "## тест Манна-Уитни U:\n",
    "testmanSib = mannwhitneyu(notOnlyprne, onlyChildprne, use_continuity=True, alternative='less')\n",
    "\n",
    "print(testmanSib)\n"
   ]
  },
  {
   "cell_type": "markdown",
   "metadata": {},
   "source": [
    "#### Вывод:"
   ]
  },
  {
   "cell_type": "markdown",
   "metadata": {},
   "source": [
    "В этом вопросе я применил односторонний тест Манна-Уитни, чтобы определить, существует ли значимая связь между удовольствием от фильма «Король Лев» у людей с братьями и сестрами и у тех, у кого нет братьев и сестер. В коде я разделил две интересующие меня группы на массивы и убедился, что ответы на вопрос «Вы единственный ребёнок в семье?» относятся к фильму «Король Лев». Затем интересующий меня набор данных был очищен поэлементно, чтобы снизить вероятность уменьшения размера выборки. Запуск теста как одностороннего позволяет тесту Манна-Уитни учитывать только группу, которой фильм понравился «больше». При p-значении 0,9784 мы не можем отвергнуть нулевую гипотезу с интервалом уровня альфа 0,005 и принимаем альтернативную гипотезу."
   ]
  },
  {
   "cell_type": "markdown",
   "metadata": {},
   "source": [
    "#### Вопрос #6:"
   ]
  },
  {
   "cell_type": "markdown",
   "metadata": {},
   "source": [
    "#### Какая доля фильмов демонстрирует «эффект единственного ребенка», т. е. по-разному оценивается зрителями, у которых есть братья или сестры, и зрителями, у которых нет братьев или сестер?"
   ]
  },
  {
   "cell_type": "code",
   "execution_count": 13,
   "metadata": {},
   "outputs": [
    {
     "name": "stdout",
     "output_type": "stream",
     "text": [
      "Доля фильмов, в которых проявляется эффект 'единственного ребенка', т.е. которые оцениваются по-разному зрителями с братьями и сестрами и без них составляет  0.0175\n"
     ]
    }
   ],
   "source": [
    "all_titles = data1.columns\n",
    "count = 0\n",
    "\n",
    "for i in range(400):\n",
    "\n",
    "    dataone = data1.loc[:,[all_titles[i], 'Are you an only child? (1: Yes; 0: No; -1: Did not respond)']]\n",
    "    dataone = dataone[np.isfinite(dataone)]\n",
    "    \n",
    "    notonlyChild =  dataone.loc[dataone['Are you an only child? (1: Yes; 0: No; -1: Did not respond)'] == 0 ].iloc[:,0]\n",
    "    onlyChild =  dataone.loc[dataone['Are you an only child? (1: Yes; 0: No; -1: Did not respond)'] == 1 ].iloc[:,0]\n",
    "    #print(datafemale)\n",
    "    notonlyChil = notonlyChild[np.isfinite(notonlyChild)]\n",
    "    onlyChil = onlyChild[np.isfinite(onlyChild)]\n",
    "   # print(datafem)\n",
    "    test22, p = mannwhitneyu(notonlyChil, onlyChil)\n",
    "    \n",
    "    if p < 0.005:\n",
    "        count += 1\n",
    "proportion = count/400\n",
    "\n",
    "print(\"Доля фильмов, в которых проявляется эффект 'единственного ребенка', т.е. которые оцениваются по-разному зрителями с братьями и сестрами и без них составляет \", proportion)"
   ]
  },
  {
   "cell_type": "markdown",
   "metadata": {},
   "source": [
    "#### Вывод:"
   ]
  },
  {
   "cell_type": "markdown",
   "metadata": {},
   "source": [
    "- Для этого вопроса я реализовал двухсторонний тест Манна-Уитни. Эта проблема была решена путем сначала отбора только интересующих данных, а затем категоризации моих данных на группу для участников, которые являются единственным ребенком в семье, и тех, у кого есть братья и сестры. Затем я очистил данные поэлементно, чтобы учесть количество данных как отдельных участников опроса, а не использовать очистку по строкам, где я потенциально могу сократить свои данные. Для расчета доли использовался U-тест Манна-Уитни с уровнем альфа 0,005, где с помощью цикла for достигалось p-значение для каждого элемента в строках и делилось на общий размер выборки, чтобы найти долю фильмов, которые продемонстрировали эффект единственного ребенка. Таким образом, мы можем заключить, что 7/400 фильмов демонстрируют «эффект единственного ребенка»."
   ]
  },
  {
   "cell_type": "markdown",
   "metadata": {},
   "source": [
    "#### Question #7:"
   ]
  },
  {
   "cell_type": "markdown",
   "metadata": {},
   "source": [
    "#### Нравится ли фильм «Волк с Уолл-стрит» (2013) тем, кто любит смотреть фильмы в компании, больше, чем тем, кто предпочитает смотреть его в одиночестве?"
   ]
  },
  {
   "cell_type": "markdown",
   "metadata": {},
   "source": [
    "- H0 (Ноль): Людям, которые смотрят фильмы в компании, фильм «Волк с Уолл-стрит (2013)» нравится не больше, чем тем, кто предпочитает смотреть его в одиночестве.\n",
    "- H1: Людям, которые смотрят фильмы в компании, фильм «Волк с Уолл-стрит (2013)» нравится больше, чем тем, кто предпочитает смотреть его в одиночестве."
   ]
  },
  {
   "cell_type": "code",
   "execution_count": 15,
   "metadata": {},
   "outputs": [
    {
     "name": "stdout",
     "output_type": "stream",
     "text": [
      "MannwhitneyuResult(statistic=49303.5, pvalue=0.9436657996253056)\n"
     ]
    }
   ],
   "source": [
    "##‘The Wolf of Wall Street (2013)’ -  358\n",
    "## \"Movies are best enjoyed alone (1: Yes; 0: No; -1: Did not respond)\" -  477\n",
    "title = 'The Wolf of Wall Street (2013)'\n",
    "data1.columns.get_loc('The Wolf of Wall Street (2013)')\n",
    "dataAlone = data1.iloc[:,[357,476]]    # [movie, question of interest]  \n",
    "                \n",
    "# деление данных на 2 группы интереса\n",
    "notbestalone =  dataAlone.loc[dataAlone['Movies are best enjoyed alone (1: Yes; 0: No; -1: Did not respond)'] == 0 ]\n",
    "bestalone =  dataAlone.loc[dataAlone['Movies are best enjoyed alone (1: Yes; 0: No; -1: Did not respond)'] == 1 ]\n",
    "\n",
    "notbestalonenp = np.array(notbestalone['The Wolf of Wall Street (2013)'])\n",
    "bestalonenp = np.array(bestalone['The Wolf of Wall Street (2013)'])\n",
    "\n",
    "notbestaloneprne = notbestalonenp[np.isfinite(notbestalonenp)]\n",
    "bestalonenpprne = bestalonenp[np.isfinite(bestalonenp)]\n",
    "\n",
    "## Mann-Whitney U test  \n",
    "testmanAlone = mannwhitneyu(notbestaloneprne, bestalonenpprne, use_continuity=True, alternative='greater')\n",
    "print(testmanAlone)\n"
   ]
  },
  {
   "cell_type": "markdown",
   "metadata": {},
   "source": [
    "#### Вывод:"
   ]
  },
  {
   "cell_type": "markdown",
   "metadata": {},
   "source": [
    "- Задача была решена с помощью одностороннего теста Манна-Уитни с уровнем альфа 0,005. Запуск одностороннего теста позволяет нам проверить влияние того, что одна группа получает больше удовольствия от фильма, чем другая. Перед обработкой данных я разделил выборку на две группы: «bestnotalone» и «bestalone». При этом я очистил данные поэлементно, чтобы исключить вероятность уменьшения размера выборки. В результате я получил p-значение 0,94366, что не позволяет отвергнуть нулевое значение с уровнем альфа 0,005."
   ]
  },
  {
   "cell_type": "markdown",
   "metadata": {},
   "source": [
    "#### Вопрос #8:"
   ]
  },
  {
   "cell_type": "markdown",
   "metadata": {},
   "source": [
    "#### Какая доля фильмов демонстрирует подобный эффект «социального просмотра»?"
   ]
  },
  {
   "cell_type": "code",
   "execution_count": 16,
   "metadata": {},
   "outputs": [
    {
     "name": "stdout",
     "output_type": "stream",
     "text": [
      "пропорция фильмов, в которых проявляется эффект 'социального просмотра':  0.025\n"
     ]
    }
   ],
   "source": [
    "\n",
    "all_titles = data1.columns\n",
    "count = 0\n",
    "\n",
    "for i in range(400):\n",
    "    \n",
    "    dataone = data1.loc[:,[all_titles[i], 'Movies are best enjoyed alone (1: Yes; 0: No; -1: Did not respond)']]\n",
    "    dataone = dataone[np.isfinite(dataone)]\n",
    "    \n",
    "    notbestalone =  dataone.loc[dataAlone['Movies are best enjoyed alone (1: Yes; 0: No; -1: Did not respond)'] == 0 ].iloc[:,0]\n",
    "    bestalone =  dataone.loc[dataAlone['Movies are best enjoyed alone (1: Yes; 0: No; -1: Did not respond)'] == 1 ].iloc[:,0]\n",
    "\n",
    "    notbestalon = notbestalone[np.isfinite(notbestalone)]\n",
    "    bestalon = bestalone[np.isfinite(bestalone)]\n",
    "    test88, p = mannwhitneyu(notbestalon, bestalon, alternative='two-sided') \n",
    "    if p < 0.005:\n",
    "        count += 1\n",
    "        \n",
    "proportion = count/400\n",
    "\n",
    "print(\"пропорция фильмов, в которых проявляется эффект 'социального просмотра': \" , proportion)"
   ]
  }
 ],
 "metadata": {
  "kernelspec": {
   "display_name": "Python 3 (ipykernel)",
   "language": "python",
   "name": "python3"
  },
  "language_info": {
   "codemirror_mode": {
    "name": "ipython",
    "version": 3
   },
   "file_extension": ".py",
   "mimetype": "text/x-python",
   "name": "python",
   "nbconvert_exporter": "python",
   "pygments_lexer": "ipython3",
   "version": "3.12.4"
  }
 },
 "nbformat": 4,
 "nbformat_minor": 4
}
